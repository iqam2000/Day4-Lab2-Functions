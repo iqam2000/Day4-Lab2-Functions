{
 "cells": [
  {
   "cell_type": "code",
   "execution_count": 2,
   "id": "4085a2c1",
   "metadata": {},
   "outputs": [
    {
     "name": "stdout",
     "output_type": "stream",
     "text": [
      "Enter a Number:5\n",
      "5 4 3 2 1  \n",
      "4 3 2 1  \n",
      "3 2 1  \n",
      "2 1  \n",
      "1  \n"
     ]
    }
   ],
   "source": [
    "def f(num):\n",
    "    for i in range(num, 0, -1):\n",
    "        for x in range (i,0,-1):\n",
    "            print(x, end=\" \")\n",
    "        print(\" \")\n",
    "            \n",
    "    \n",
    "            \n",
    "inp = int(input('Enter a Number:'))  \n",
    "f(inp)\n",
    "           "
   ]
  },
  {
   "cell_type": "markdown",
   "id": "86974f65",
   "metadata": {},
   "source": [
    " "
   ]
  },
  {
   "cell_type": "code",
   "execution_count": null,
   "id": "c8009cdd",
   "metadata": {},
   "outputs": [],
   "source": []
  },
  {
   "cell_type": "code",
   "execution_count": null,
   "id": "85fb68e5",
   "metadata": {},
   "outputs": [],
   "source": []
  }
 ],
 "metadata": {
  "kernelspec": {
   "display_name": "Python 3 (ipykernel)",
   "language": "python",
   "name": "python3"
  },
  "language_info": {
   "codemirror_mode": {
    "name": "ipython",
    "version": 3
   },
   "file_extension": ".py",
   "mimetype": "text/x-python",
   "name": "python",
   "nbconvert_exporter": "python",
   "pygments_lexer": "ipython3",
   "version": "3.9.12"
  }
 },
 "nbformat": 4,
 "nbformat_minor": 5
}
